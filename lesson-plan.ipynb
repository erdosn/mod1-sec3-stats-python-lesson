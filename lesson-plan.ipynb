{
 "cells": [
  {
   "cell_type": "markdown",
   "metadata": {},
   "source": [
    "### Questions\n",
    "- nested loops/going through them\n",
    "- // -> what is this?\n",
    "- syntax\n",
    "- lambda functions"
   ]
  },
  {
   "cell_type": "markdown",
   "metadata": {},
   "source": [
    "### Objectives\n",
    "YWBAT\n",
    "- write functions to execute certain statistical tasks on data\n",
    "- write a try/except in a function\n",
    "    - What is the benefit of using a try/except over an if/else?\n",
    "        - catches all the exceptions that one might overlook\n",
    "        - it doesn't break your code\n",
    "        - can help you loading corrupt files\n",
    "        - find where your error is occuring\n",
    "- explain the purpose of a try/except\n",
    "- manipulate dictionaries to get certain key/value pairs from them\n",
    "- write a python script\n",
    "- explain what's happening in a python script"
   ]
  },
  {
   "cell_type": "markdown",
   "metadata": {},
   "source": [
    "### Outline"
   ]
  },
  {
   "cell_type": "code",
   "execution_count": 41,
   "metadata": {},
   "outputs": [],
   "source": [
    "import numpy as np\n",
    "\n",
    "from collections import Counter\n",
    "\n",
    "import matplotlib.pyplot as plt"
   ]
  },
  {
   "cell_type": "markdown",
   "metadata": {},
   "source": [
    "### Build functions for the following tasks\n",
    "* Mean\n",
    "* Mode\n",
    "* Standard Deviation"
   ]
  },
  {
   "cell_type": "markdown",
   "metadata": {},
   "source": [
    "### Jupyter Best Practices\n",
    "- `shift+tab` x 1, x2, x4 to read documentation of a method\n",
    "- let `tab` autocomplete things for you\n",
    "    - avoid typos and other nonsense\n",
    "- listen to jupyter and other ides when they talk to you\n",
    "\n",
    "\n",
    "### Why is turning off print statements a good thing? \n",
    "- They can clutter up an output\n",
    "- Takes up computational time\n",
    "- Eats away the memory"
   ]
  },
  {
   "cell_type": "code",
   "execution_count": 114,
   "metadata": {},
   "outputs": [],
   "source": [
    "# How to write a function like a python developer\n",
    "# Let's add a docstring to our function\n",
    "def mean(lst, verbose=True):\n",
    "    \"\"\"\n",
    "    This function will calculate the mean of a\n",
    "    list or an array\n",
    "    \n",
    "    Paramters\n",
    "    lst : list\n",
    "        a list of numbers to calculate the mean on, list cannot contain NaN values \n",
    "    \n",
    "    Return\n",
    "    mean_list: int/float\n",
    "        the mean of lst\n",
    "    \"\"\"\n",
    "    exception_counts = 0\n",
    "    sum_list = 0\n",
    "    total_elements = 0\n",
    "    \n",
    "    for index, i in enumerate(lst):\n",
    "        try:\n",
    "            sum_list += i\n",
    "            total_elements += 1\n",
    "        except:\n",
    "            if verbose:\n",
    "                print(f\"this index is broken {index}\")\n",
    "            exception_counts += 1\n",
    "    \n",
    "    if verbose:\n",
    "        print(f\"Discovered {exception_counts} Exceptions in your list\")\n",
    "    return sum_list/total_elements\n",
    "\n",
    "\n",
    "def mode(lst):\n",
    "    \"\"\"\n",
    "    This function will calculate the mode of a list or an array\n",
    "    \n",
    "    Paramters\n",
    "    lst : list\n",
    "        a list of numbers to calculate the mode of\n",
    "    \n",
    "    Return\n",
    "    modes_of_list: \n",
    "        the mean of lst\n",
    "    \n",
    "    \"\"\"\n",
    "    modes_of_list = []\n",
    "    \n",
    "    counter_dict = Counter(lst)\n",
    "    counter_dict_list = [(k, v) for k, v in counter_dict.items()]\n",
    "    sorted_counter_list = sorted(counter_dict_list, key=lambda x: x[1], reverse=True)\n",
    "    max_freq = sorted_counter_list[0][1]\n",
    "    for number, freq in sorted_counter_list:\n",
    "        if freq == max_freq:\n",
    "            modes_of_list.append(number)\n",
    "        else:\n",
    "            break\n",
    "    return modes_of_list\n",
    "\n",
    "\n",
    "def standard_deviation(lst):\n",
    "    pass "
   ]
  },
  {
   "cell_type": "code",
   "execution_count": 105,
   "metadata": {},
   "outputs": [
    {
     "data": {
      "text/plain": [
       "array([10,  2,  3, 10,  3,  7,  6,  6, 12,  7, 16, 13,  8,  2, 11,  9,  9,\n",
       "        9, 19, 13, 16,  8,  3,  8,  7,  2,  7, 12,  4,  4])"
      ]
     },
     "execution_count": 105,
     "metadata": {},
     "output_type": "execute_result"
    }
   ],
   "source": [
    "x = np.random.randint(1, 20, size=30)\n",
    "x"
   ]
  },
  {
   "cell_type": "code",
   "execution_count": 106,
   "metadata": {},
   "outputs": [
    {
     "name": "stdout",
     "output_type": "stream",
     "text": [
      "Discovered 0 Exceptions in your list\n"
     ]
    },
    {
     "data": {
      "text/plain": [
       "(8.2, 8.2)"
      ]
     },
     "execution_count": 106,
     "metadata": {},
     "output_type": "execute_result"
    }
   ],
   "source": [
    "mean(x), np.mean(x)"
   ]
  },
  {
   "cell_type": "code",
   "execution_count": 107,
   "metadata": {},
   "outputs": [],
   "source": [
    "# # What if we have a None value in our list\n",
    "# x = np.append(x, [None, 1, 3, None, 5, 'this', 'string', 'is', 'in', 'my', 'list'])\n",
    "# x"
   ]
  },
  {
   "cell_type": "code",
   "execution_count": 108,
   "metadata": {},
   "outputs": [
    {
     "data": {
      "text/plain": [
       "8.2"
      ]
     },
     "execution_count": 108,
     "metadata": {},
     "output_type": "execute_result"
    }
   ],
   "source": [
    "mean(x, verbose=False)"
   ]
  },
  {
   "cell_type": "markdown",
   "metadata": {},
   "source": [
    "### What does Counter do?"
   ]
  },
  {
   "cell_type": "code",
   "execution_count": 112,
   "metadata": {},
   "outputs": [
    {
     "data": {
      "text/plain": [
       "array([10,  2,  3, 10,  3,  7,  6,  6, 12,  7, 16, 13,  8,  2, 11,  9,  9,\n",
       "        9, 19, 13, 16,  8,  3,  8,  7,  2,  7, 12,  4,  4])"
      ]
     },
     "execution_count": 112,
     "metadata": {},
     "output_type": "execute_result"
    }
   ],
   "source": [
    "x"
   ]
  },
  {
   "cell_type": "code",
   "execution_count": 113,
   "metadata": {},
   "outputs": [
    {
     "name": "stdout",
     "output_type": "stream",
     "text": [
      "[(7, 4), (2, 3), (3, 3), (8, 3), (9, 3), (10, 2), (6, 2), (12, 2), (16, 2), (13, 2), (4, 2), (11, 1), (19, 1)]\n"
     ]
    },
    {
     "data": {
      "text/plain": [
       "[7]"
      ]
     },
     "execution_count": 113,
     "metadata": {},
     "output_type": "execute_result"
    }
   ],
   "source": [
    "mode(x)"
   ]
  },
  {
   "cell_type": "code",
   "execution_count": 71,
   "metadata": {},
   "outputs": [],
   "source": [
    "c = Counter(x)"
   ]
  },
  {
   "cell_type": "code",
   "execution_count": 72,
   "metadata": {},
   "outputs": [
    {
     "name": "stdout",
     "output_type": "stream",
     "text": [
      "16 2\n",
      "3 2\n",
      "12 2\n",
      "17 1\n",
      "4 3\n",
      "15 2\n",
      "10 3\n",
      "11 4\n",
      "13 2\n",
      "9 2\n",
      "5 3\n",
      "6 2\n",
      "8 1\n",
      "19 1\n",
      "18 1\n",
      "14 1\n",
      "None 2\n",
      "1 1\n",
      "this 1\n",
      "string 1\n",
      "is 1\n",
      "in 1\n",
      "my 1\n",
      "list 1\n"
     ]
    }
   ],
   "source": [
    "for k, v in c.items():\n",
    "    print(k, v)"
   ]
  },
  {
   "cell_type": "markdown",
   "metadata": {},
   "source": [
    "### `lambda` functions"
   ]
  },
  {
   "cell_type": "code",
   "execution_count": 82,
   "metadata": {},
   "outputs": [
    {
     "data": {
      "text/plain": [
       "(21, function)"
      ]
     },
     "execution_count": 82,
     "metadata": {},
     "output_type": "execute_result"
    }
   ],
   "source": [
    "def summ(a, b):\n",
    "    return a + b\n",
    "\n",
    "summ(8, 13), type(summ)"
   ]
  },
  {
   "cell_type": "code",
   "execution_count": 83,
   "metadata": {},
   "outputs": [
    {
     "data": {
      "text/plain": [
       "(21, function)"
      ]
     },
     "execution_count": 83,
     "metadata": {},
     "output_type": "execute_result"
    }
   ],
   "source": [
    "# convert summ to a lambda function\n",
    "summ = lambda a, b: a + b \n",
    "\n",
    "summ(8, 13), type(summ)"
   ]
  },
  {
   "cell_type": "code",
   "execution_count": 84,
   "metadata": {},
   "outputs": [
    {
     "data": {
      "text/plain": [
       "300"
      ]
     },
     "execution_count": 84,
     "metadata": {},
     "output_type": "execute_result"
    }
   ],
   "source": [
    "summ(100, 200)"
   ]
  },
  {
   "cell_type": "markdown",
   "metadata": {},
   "source": [
    "### Let's learn about the `sorted` method"
   ]
  },
  {
   "cell_type": "code",
   "execution_count": 88,
   "metadata": {},
   "outputs": [
    {
     "data": {
      "text/plain": [
       "[(82, 4, 29),\n",
       " (80, 7, 23),\n",
       " (86, 6, 22),\n",
       " (83, 9, 23),\n",
       " (82, 6, 21),\n",
       " (80, 1, 24),\n",
       " (88, 2, 27),\n",
       " (82, 7, 23),\n",
       " (87, 1, 24),\n",
       " (87, 6, 23),\n",
       " (82, 8, 29),\n",
       " (85, 9, 22),\n",
       " (85, 1, 28),\n",
       " (80, 2, 24),\n",
       " (81, 4, 29),\n",
       " (85, 2, 29),\n",
       " (85, 3, 29),\n",
       " (82, 2, 29),\n",
       " (84, 5, 22),\n",
       " (89, 2, 25)]"
      ]
     },
     "execution_count": 88,
     "metadata": {},
     "output_type": "execute_result"
    }
   ],
   "source": [
    "x = np.random.randint(80, 90, size=20)\n",
    "y = np.random.randint(0, 10, size=20)\n",
    "z = np.random.randint(20, 30, size=20)\n",
    "\n",
    "new_list = [(i, j, k) for i, j, k in zip(x, y, z)]\n",
    "new_list"
   ]
  },
  {
   "cell_type": "code",
   "execution_count": 89,
   "metadata": {},
   "outputs": [
    {
     "data": {
      "text/plain": [
       "[(80, 1, 24),\n",
       " (80, 2, 24),\n",
       " (80, 7, 23),\n",
       " (81, 4, 29),\n",
       " (82, 2, 29),\n",
       " (82, 4, 29),\n",
       " (82, 6, 21),\n",
       " (82, 7, 23),\n",
       " (82, 8, 29),\n",
       " (83, 9, 23),\n",
       " (84, 5, 22),\n",
       " (85, 1, 28),\n",
       " (85, 2, 29),\n",
       " (85, 3, 29),\n",
       " (85, 9, 22),\n",
       " (86, 6, 22),\n",
       " (87, 1, 24),\n",
       " (87, 6, 23),\n",
       " (88, 2, 27),\n",
       " (89, 2, 25)]"
      ]
     },
     "execution_count": 89,
     "metadata": {},
     "output_type": "execute_result"
    }
   ],
   "source": [
    "# let's sort our list of tuples by the zeroth element\n",
    "sorted(new_list) # by default this will happen"
   ]
  },
  {
   "cell_type": "code",
   "execution_count": 90,
   "metadata": {},
   "outputs": [
    {
     "data": {
      "text/plain": [
       "[(80, 1, 24),\n",
       " (87, 1, 24),\n",
       " (85, 1, 28),\n",
       " (88, 2, 27),\n",
       " (80, 2, 24),\n",
       " (85, 2, 29),\n",
       " (82, 2, 29),\n",
       " (89, 2, 25),\n",
       " (85, 3, 29),\n",
       " (82, 4, 29),\n",
       " (81, 4, 29),\n",
       " (84, 5, 22),\n",
       " (86, 6, 22),\n",
       " (82, 6, 21),\n",
       " (87, 6, 23),\n",
       " (80, 7, 23),\n",
       " (82, 7, 23),\n",
       " (82, 8, 29),\n",
       " (83, 9, 23),\n",
       " (85, 9, 22)]"
      ]
     },
     "execution_count": 90,
     "metadata": {},
     "output_type": "execute_result"
    }
   ],
   "source": [
    "# let's sort our list of tuples by the 1st indexed element\n",
    "sorting_function = lambda tup: tup[1]\n",
    "def sorting_function_2(tup):\n",
    "    return tup[1]\n",
    "\n",
    "\n",
    "sorted(new_list, key=sorting_function_2)"
   ]
  },
  {
   "cell_type": "code",
   "execution_count": 93,
   "metadata": {},
   "outputs": [
    {
     "data": {
      "text/plain": [
       "[(82, 6, 21),\n",
       " (86, 6, 22),\n",
       " (85, 9, 22),\n",
       " (84, 5, 22),\n",
       " (80, 7, 23),\n",
       " (83, 9, 23),\n",
       " (82, 7, 23),\n",
       " (87, 6, 23),\n",
       " (80, 1, 24),\n",
       " (87, 1, 24),\n",
       " (80, 2, 24),\n",
       " (89, 2, 25),\n",
       " (88, 2, 27),\n",
       " (85, 1, 28),\n",
       " (82, 4, 29),\n",
       " (82, 8, 29),\n",
       " (81, 4, 29),\n",
       " (85, 2, 29),\n",
       " (85, 3, 29),\n",
       " (82, 2, 29)]"
      ]
     },
     "execution_count": 93,
     "metadata": {},
     "output_type": "execute_result"
    }
   ],
   "source": [
    "# sort by the 2nd indexed element\n",
    "sorted(new_list, key=lambda x: x[2])"
   ]
  },
  {
   "cell_type": "code",
   "execution_count": 117,
   "metadata": {},
   "outputs": [
    {
     "data": {
      "text/plain": [
       "(3.5, 3, 1.6666666666666667, 1)"
      ]
     },
     "execution_count": 117,
     "metadata": {},
     "output_type": "execute_result"
    }
   ],
   "source": [
    "7/2, 7//2, 10/6, 10//6"
   ]
  },
  {
   "cell_type": "code",
   "execution_count": 120,
   "metadata": {},
   "outputs": [
    {
     "data": {
      "text/plain": [
       "10"
      ]
     },
     "execution_count": 120,
     "metadata": {},
     "output_type": "execute_result"
    }
   ],
   "source": [
    "x[6//2]"
   ]
  },
  {
   "cell_type": "markdown",
   "metadata": {},
   "source": [
    "### Assessment"
   ]
  }
 ],
 "metadata": {
  "kernelspec": {
   "display_name": "Python 3",
   "language": "python",
   "name": "python3"
  },
  "language_info": {
   "codemirror_mode": {
    "name": "ipython",
    "version": 3
   },
   "file_extension": ".py",
   "mimetype": "text/x-python",
   "name": "python",
   "nbconvert_exporter": "python",
   "pygments_lexer": "ipython3",
   "version": "3.6.0"
  }
 },
 "nbformat": 4,
 "nbformat_minor": 2
}
